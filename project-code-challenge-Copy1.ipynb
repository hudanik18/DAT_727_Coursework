{
 "cells": [
  {
   "cell_type": "markdown",
   "metadata": {},
   "source": [
    "<img src=\"http://imgur.com/1ZcRyrc.png\" style=\"float: left; margin: 20px; height: 55px\">\n",
    "\n",
    "# Project 1: Python Coding Exercises\n",
    "\n",
    "_Authors: Joseph Nelson (DC) _\n",
    "\n",
    "---"
   ]
  },
  {
   "cell_type": "markdown",
   "metadata": {},
   "source": [
    "The following code challenges are drawn from common exercises used in technical interviews.\n",
    "\n",
    "Please note that there may be several ways to approach each challenge. If you get stuck, try mapping out your approach in pseudocode first. Finally, while solutions to problems like these may be found online, remember that if you copy/paste code that you can't explain, you'll be missing out on the point of the project. The only way to truly learn a new skill is through practice, trial, and error - we can only help you improve by understanding where you are having trouble."
   ]
  },
  {
   "cell_type": "markdown",
   "metadata": {},
   "source": [
    "### Challenge 1: Largest Palindrome\n",
    "A palindromic number reads the same both ways. For example, 1234321 is a palindrome. The largest palindrome made from the product of two two-digit numbers is 9009 = 91 × 99. Find the largest palindrome made from the product of two three-digit numbers. Afterward, write a brief explanation walking through your code's logic in markdown."
   ]
  },
  {
   "cell_type": "code",
   "execution_count": 26,
   "metadata": {},
   "outputs": [
    {
     "name": "stdout",
     "output_type": "stream",
     "text": [
      "906609\n"
     ]
    }
   ],
   "source": [
    "for A in range(900, 999):\n",
    "    for B in range(900,999): #stopping at 3 digits, probably don't need to worry about lower range of nums\n",
    "        product = A*B #get product\n",
    "        product_string = str(product) #convert int to string\n",
    "        if product_string[0] == product_string[5]: #are the first and last the same? max will be 6 digit \n",
    "            if product_string[1]==product_string[4]: #are the next first and last the same?\n",
    "                if product_string[2]==product_string[3]: #are the middles the same?\n",
    "                    maxpalindrome = product_string #the last one in the for loops will be assigned to the variable\n",
    "print(maxpalindrome)\n",
    "\n",
    "#I ran two for loops to get every product of the numbers from 900-999. I then filtered for those numbers that palindrome qualities through if statements. "
   ]
  },
  {
   "cell_type": "markdown",
   "metadata": {},
   "source": [
    "\n",
    "### Challenge 2: Summation of Primes\n",
    "The sum of the primes below 10 is 2 + 3 + 5 + 7 = 17. Find the sum of all the primes below 2,000. Afterward, write a brief explanation walking through your code's logic in markdown."
   ]
  },
  {
   "cell_type": "code",
   "execution_count": 39,
   "metadata": {},
   "outputs": [
    {
     "name": "stdout",
     "output_type": "stream",
     "text": [
      "458848\n"
     ]
    },
    {
     "data": {
      "text/plain": [
       "\"Prime numbers can't be divisible by anything but themselves.  I divided numbers from 4-2000 because I already knew 2 and 3\\nare prime numbers.  I started the sum from 5 so 2 and 3 are included. Then I checked to see if the values are divisible by any of the prime numbers.\""
      ]
     },
     "execution_count": 39,
     "metadata": {},
     "output_type": "execute_result"
    }
   ],
   "source": [
    "primesum = 5 #including 2+3 because they don't get counted in the first two if statements\n",
    "\n",
    "for num in range(4,2000):\n",
    "    if num%2 !=0 and num%3 != 0 and num%5 !=0 and num%7 !=0: #not cleanly divided by 2, 3, 5, or 7\n",
    "        primesum += num\n",
    "print(primesum)\n",
    "\n",
    "'''Prime numbers can't be divisible by anything but themselves.  I divided numbers from 4-2000 because I already knew 2 and 3\n",
    "are prime numbers.  I started the sum from 5 so 2 and 3 are included. Then I checked to see if the values are divisible by any of the prime numbers.'''"
   ]
  },
  {
   "cell_type": "markdown",
   "metadata": {},
   "source": [
    "### Challenge 3: Multiples of 3 and 5\n",
    "If we list all of the natural numbers below 10 that are multiples of 3 or 5, we get 3, 5, 6, and 9. The sum of these multiples is 23. Find the sum of all the multiples of 3 and 5 below 1,000. Afterward, write a brief explanation walking through your code's logic in markdown."
   ]
  },
  {
   "cell_type": "code",
   "execution_count": 44,
   "metadata": {},
   "outputs": [
    {
     "name": "stdout",
     "output_type": "stream",
     "text": [
      "233168\n"
     ]
    }
   ],
   "source": [
    "multiplesum = 0 #initialize counter\n",
    "\n",
    "for num in range(0,1000):\n",
    "    if num%3 ==0 and num%5 != 0: #multiple of 3, but exclude multiples of 5\n",
    "        multiplesum+=num\n",
    "    if num%5 ==0: #multiples of 5 only\n",
    "        multiplesum+=num\n",
    "                \n",
    "print(multiplesum)\n",
    "\n",
    "#I check for multiples of 3 but disclude multiples of 5 so they don't double count.  Then I add the multiples of 5."
   ]
  },
  {
   "cell_type": "markdown",
   "metadata": {},
   "source": [
    "### Challenge 4: String Compressor\n",
    "Implement a method to perform basic string compression using the counts of repeated characters. (This is called run-length encoding.) For example, the string \"aabcccccaaa\" would become a2b1c5a3. If the “compressed” string would not become smaller than the original string, your method should return the original string. You can assume the string has only uppercase and lowercase letters (a–z). Specify whether your solution is case sensitive or case insensitive and what you would need to change to make it the other. Afterward, write a brief explanation walking through your code's logic in markdown."
   ]
  },
  {
   "cell_type": "code",
   "execution_count": 110,
   "metadata": {},
   "outputs": [
    {
     "name": "stdout",
     "output_type": "stream",
     "text": [
      "aabccccaabaaababababaa\n",
      "a4b4c5d4e5\n"
     ]
    }
   ],
   "source": [
    "import string\n",
    "\n",
    "def stringcompressor(string):\n",
    "    \n",
    "    string = string.lower() #make everything lowercase so it is not case sensitive\n",
    "    \n",
    "    answer = ''\n",
    "    counter = 1 #starting the counter at 1 instead of 0 so the counting is correct\n",
    "    \n",
    "    for x,y in enumerate(string): #separate out the string into individual components\n",
    "        if x > 0:\n",
    "            current = string[x] \n",
    "            previous = string[x-1] \n",
    "        \n",
    "            if current == previous: #compare each of the letters, if they are the same then increase the counter\n",
    "                counter += 1\n",
    "            else: #if they are not the same, make a concatenation between the character and the counter\n",
    "                chunk = previous + str(counter)\n",
    "                answer += chunk\n",
    "                counter = 1 #reset the counter\n",
    "        if x == (len(string)-1): #at the end of the string\n",
    "            #print(current)\n",
    "            if current == previous: #if the last letter is the same as the previous\n",
    "                chunk = previous + str(counter)\n",
    "                answer += chunk #we don't add to the counter but just add it to the end of the string\n",
    "            else: #if the last letter is not the same as the previous\n",
    "                chunk = current + str(counter) #add the last letter, this way we do not lose the last letter\n",
    "                answer += chunk\n",
    "    if len(answer) > len(string): #do a length check to print out the shorter string\n",
    "        print(string)\n",
    "    else:\n",
    "        print(answer)\n",
    "    \n",
    "\n",
    "stringcompressor('aabccccaabAAababababaa')\n",
    "stringcompressor('aaaabbbbcccccddddeeeee')\n",
    "'''\n",
    "Makes string all lowercase. Checks each letter against the previous and counts when letters are similar.  \n",
    "When there is a switch in letter, the counter restarts and a string concatenation between letter and count occurs.\n",
    "For the last letter, check to see if it is similar to one before or different, then concatenate.\n",
    "Then check if the concatenated string is smaller than the original.  If yes, it gets printed.\n",
    "'''"
   ]
  },
  {
   "cell_type": "markdown",
   "metadata": {},
   "source": [
    "### *BONUS* Challenge: FizzBuzz\n",
    "Write a program that prints all of the numbers from 1 to 100. For multiples of 3, instead of the number, print \"Fizz;\" for multiples of 5, print \"Buzz.\" For numbers that are multiples of both 3 and 5, print \"FizzBuzz.\" Afterward, write a brief explanation walking through your code's logic in markdown."
   ]
  },
  {
   "cell_type": "code",
   "execution_count": 114,
   "metadata": {},
   "outputs": [
    {
     "name": "stdout",
     "output_type": "stream",
     "text": [
      "1\n",
      "2\n",
      "Fizz\n",
      "4\n",
      "Buzz\n",
      "Fizz\n",
      "7\n",
      "8\n",
      "Fizz\n",
      "Buzz\n",
      "11\n",
      "Fizz\n",
      "13\n",
      "14\n",
      "FizzBuzz\n",
      "16\n",
      "17\n",
      "Fizz\n",
      "19\n",
      "Buzz\n",
      "Fizz\n",
      "22\n",
      "23\n",
      "Fizz\n",
      "Buzz\n",
      "26\n",
      "Fizz\n",
      "28\n",
      "29\n",
      "FizzBuzz\n",
      "31\n",
      "32\n",
      "Fizz\n",
      "34\n",
      "Buzz\n",
      "Fizz\n",
      "37\n",
      "38\n",
      "Fizz\n",
      "Buzz\n",
      "41\n",
      "Fizz\n",
      "43\n",
      "44\n",
      "FizzBuzz\n",
      "46\n",
      "47\n",
      "Fizz\n",
      "49\n",
      "Buzz\n",
      "Fizz\n",
      "52\n",
      "53\n",
      "Fizz\n",
      "Buzz\n",
      "56\n",
      "Fizz\n",
      "58\n",
      "59\n",
      "FizzBuzz\n",
      "61\n",
      "62\n",
      "Fizz\n",
      "64\n",
      "Buzz\n",
      "Fizz\n",
      "67\n",
      "68\n",
      "Fizz\n",
      "Buzz\n",
      "71\n",
      "Fizz\n",
      "73\n",
      "74\n",
      "FizzBuzz\n",
      "76\n",
      "77\n",
      "Fizz\n",
      "79\n",
      "Buzz\n",
      "Fizz\n",
      "82\n",
      "83\n",
      "Fizz\n",
      "Buzz\n",
      "86\n",
      "Fizz\n",
      "88\n",
      "89\n",
      "FizzBuzz\n",
      "91\n",
      "92\n",
      "Fizz\n",
      "94\n",
      "Buzz\n",
      "Fizz\n",
      "97\n",
      "98\n",
      "Fizz\n",
      "Buzz\n"
     ]
    },
    {
     "data": {
      "text/plain": [
       "'\\na for loop creates a counter of 1-99\\n'"
      ]
     },
     "execution_count": 114,
     "metadata": {},
     "output_type": "execute_result"
    }
   ],
   "source": [
    "\n",
    "for num in range(1,101):\n",
    "    if num%3 ==0 and num%5 != 0: #multiple of 3, but exclude multiples of 5\n",
    "        print(\"Fizz\")\n",
    "    elif num%5 ==0 and num%3 !=0: #multiples of 5, exclude multiples of 3\n",
    "        print(\"Buzz\")\n",
    "    elif num%3 == 0 and num%5 == 0: #multiples of both 3 and 5\n",
    "        print(\"FizzBuzz\")\n",
    "    else:\n",
    "        print(num)\n",
    "                \n",
    "'''\n",
    "a for loop creates a counter of 1-100 and checks for the number to be either a multiple of 3 while not being multiple of 5,\n",
    "5 while not being multiple of 3, or a multiple of both 3 and 5.\n",
    "'''"
   ]
  },
  {
   "cell_type": "code",
   "execution_count": null,
   "metadata": {},
   "outputs": [],
   "source": []
  }
 ],
 "metadata": {
  "anaconda-cloud": {},
  "kernelspec": {
   "display_name": "Python 3",
   "language": "python",
   "name": "python3"
  },
  "language_info": {
   "codemirror_mode": {
    "name": "ipython",
    "version": 3
   },
   "file_extension": ".py",
   "mimetype": "text/x-python",
   "name": "python",
   "nbconvert_exporter": "python",
   "pygments_lexer": "ipython3",
   "version": "3.8.3"
  }
 },
 "nbformat": 4,
 "nbformat_minor": 2
}
