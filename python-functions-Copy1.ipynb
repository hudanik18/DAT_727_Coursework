{
 "cells": [
  {
   "cell_type": "markdown",
   "metadata": {},
   "source": [
    "<img src=\"http://imgur.com/1ZcRyrc.png\" style=\"float: left; margin: 20px; height: 55px\">\n",
    "\n",
    "## Practice Python Functions\n",
    "\n",
    "_Author: Ryan Dunlap | DSI-SF_\n",
    "\n",
    "---"
   ]
  },
  {
   "cell_type": "markdown",
   "metadata": {},
   "source": [
    "### Resources - Potentially Helpful Functions\n",
    "\n",
    "* [Dictionary Comprehension](https://docs.python.org/2/tutorial/datastructures.html#dictionaries)\n",
    "* [Enumerate](https://docs.python.org/2/library/functions.html#enumerate)\n",
    "* [Length](https://docs.python.org/2/library/functions.html#len)\n",
    "* [Int](https://docs.python.org/2/library/functions.html#int)\n",
    "* [List](https://docs.python.org/2/library/functions.html#list)"
   ]
  },
  {
   "cell_type": "markdown",
   "metadata": {},
   "source": [
    "Now-a-days, most of the components of the `String` module are already built into python however, it still has several [constant values](https://docs.python.org/2/library/string.html#string-constants) which can be useful, such as:\n",
    "```python\n",
    "string.ascii_uppercase\n",
    "```"
   ]
  },
  {
   "cell_type": "code",
   "execution_count": 1,
   "metadata": {},
   "outputs": [
    {
     "data": {
      "text/plain": [
       "'ABCDEFGHIJKLMNOPQRSTUVWXYZ'"
      ]
     },
     "execution_count": 1,
     "metadata": {},
     "output_type": "execute_result"
    }
   ],
   "source": [
    "import string\n",
    "\n",
    "string.ascii_uppercase"
   ]
  },
  {
   "cell_type": "markdown",
   "metadata": {},
   "source": [
    "---\n",
    "\n",
    "### 1. Write a function that takes the length of a side of a square as an argument and returns the area of the square."
   ]
  },
  {
   "cell_type": "code",
   "execution_count": 39,
   "metadata": {},
   "outputs": [
    {
     "name": "stdout",
     "output_type": "stream",
     "text": [
      "4\n"
     ]
    }
   ],
   "source": [
    "# A:\n",
    "def area_of_square(side):\n",
    "    return int(side)*int(side)\n",
    "\n",
    "print(area_of_square(2))"
   ]
  },
  {
   "cell_type": "markdown",
   "metadata": {},
   "source": [
    "---\n",
    "\n",
    "### 2. Write a function that takes the heigth and width of a triangle and returns the area."
   ]
  },
  {
   "cell_type": "code",
   "execution_count": 40,
   "metadata": {},
   "outputs": [
    {
     "name": "stdout",
     "output_type": "stream",
     "text": [
      "3.0\n"
     ]
    }
   ],
   "source": [
    "# A:\n",
    "def area_of_triange(height, width):\n",
    "    return 0.5*int(height)*int(width)\n",
    "\n",
    "print(area_of_triange(3, 2))"
   ]
  },
  {
   "cell_type": "markdown",
   "metadata": {},
   "source": [
    "---\n",
    "\n",
    "### 3. Write a function that takes a string as an argument and returns a tuple consisting of two elements:\n",
    "- **A list of all the characters in the string.** \n",
    "- **A count of the number of characters in the string.**"
   ]
  },
  {
   "cell_type": "code",
   "execution_count": 38,
   "metadata": {},
   "outputs": [
    {
     "data": {
      "text/plain": [
       "(['a', 'b', 'c', 'd', 'e', 'f'], 6)"
      ]
     },
     "execution_count": 38,
     "metadata": {},
     "output_type": "execute_result"
    }
   ],
   "source": [
    "# A:\n",
    "def characters_and_numbers(string):\n",
    "    \n",
    "    return (list(string), len(string))\n",
    "     \n",
    "    #return print('the characters are {} and the number of characters are {}'.format(characters, count))\n",
    "\n",
    "characters_and_numbers('abcdef')\n",
    "    "
   ]
  },
  {
   "cell_type": "markdown",
   "metadata": {},
   "source": [
    "---\n",
    "\n",
    "### 4. Write a function that takes two integers, passed as strings, and returns the sum, difference, and product as a tuple (all values as integers)."
   ]
  },
  {
   "cell_type": "code",
   "execution_count": 37,
   "metadata": {},
   "outputs": [
    {
     "data": {
      "text/plain": [
       "(5, 1, 6)"
      ]
     },
     "execution_count": 37,
     "metadata": {},
     "output_type": "execute_result"
    }
   ],
   "source": [
    "# A:\n",
    "def calculator(int1, int2):\n",
    "    int(int1)\n",
    "    int(int2)\n",
    "         \n",
    "    my_tuple = (int1+int2, int1-int2, int1*int2)\n",
    "    \n",
    "    return my_tuple\n",
    "\n",
    "calculator(3, 2)"
   ]
  },
  {
   "cell_type": "markdown",
   "metadata": {},
   "source": [
    "---\n",
    "\n",
    "### 5. Write a function that takes a list as the argument and returns a tuple consisting of two elements:\n",
    "- **A list with the items in reverse order.**  \n",
    "- **A list of the items in the original list that have an odd index.**"
   ]
  },
  {
   "cell_type": "code",
   "execution_count": 35,
   "metadata": {},
   "outputs": [
    {
     "name": "stdout",
     "output_type": "stream",
     "text": [
      "([9, 7, 2, 3, 6, 5, 4, 1], [4, 6, 2, 9])\n"
     ]
    }
   ],
   "source": [
    "# A:\n",
    "def reverse_and_odd(input_list = []):\n",
    "      \n",
    "    combined_tuple = (input_list[::-1], input_list[1::2])\n",
    "    \n",
    "    return combined_tuple\n",
    "    \n",
    "\n",
    "print(reverse_and_odd([1, 4, 5, 6, 3, 2, 7, 9]))\n",
    "    "
   ]
  },
  {
   "cell_type": "markdown",
   "metadata": {},
   "source": [
    "---\n",
    "\n",
    "### Challenge Problem: Write a function that returns the score for a word.  The score of the word is the sum of the scores of its letters. Each letter's score is equal to it's position in the alphabet.\n",
    "\n",
    "So, for example:\n",
    "\n",
    "* A = 1, B = 2, C = 3, D = 4, E = 5\n",
    "* abe = 8 = (1 + 2 + 5)\n",
    "\n",
    "\n",
    "_Hint: The string library has a property_ `ascii_lowercase` _that can save some typing here._\n"
   ]
  },
  {
   "cell_type": "code",
   "execution_count": 73,
   "metadata": {},
   "outputs": [
    {
     "name": "stdout",
     "output_type": "stream",
     "text": [
      "22\n"
     ]
    }
   ],
   "source": [
    "# A:\n",
    "import json\n",
    "\n",
    "def score(letters_input):\n",
    "    letters = string.ascii_lowercase\n",
    "    letters = list(letters)\n",
    "    letter_value = []\n",
    "    letters_input = list(letters_input)\n",
    "    summation = 0\n",
    "    \n",
    "    \n",
    "    for n in range(len(letters)):\n",
    "        letter_value.append(int(n+1))\n",
    "    \n",
    "    new_dict = dict(zip(letters, letter_value))\n",
    "    \n",
    "    for y in range(len(letters_input)):\n",
    "        value = new_dict[letters_input[y]]\n",
    "        summation += value\n",
    "    #letters_dict = json.loads(letters)\n",
    "    return summation\n",
    "\n",
    "\n",
    "print(score('abcdeg'))"
   ]
  },
  {
   "cell_type": "code",
   "execution_count": null,
   "metadata": {},
   "outputs": [],
   "source": []
  }
 ],
 "metadata": {
  "anaconda-cloud": {},
  "kernelspec": {
   "display_name": "Python 3",
   "language": "python",
   "name": "python3"
  },
  "language_info": {
   "codemirror_mode": {
    "name": "ipython",
    "version": 3
   },
   "file_extension": ".py",
   "mimetype": "text/x-python",
   "name": "python",
   "nbconvert_exporter": "python",
   "pygments_lexer": "ipython3",
   "version": "3.8.3"
  }
 },
 "nbformat": 4,
 "nbformat_minor": 2
}
